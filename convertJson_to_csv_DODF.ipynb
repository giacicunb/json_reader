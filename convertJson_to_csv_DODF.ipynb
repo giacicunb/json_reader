{
 "cells": [
  {
   "cell_type": "code",
   "execution_count": 1,
   "metadata": {},
   "outputs": [],
   "source": [
    "import pandas as pd\n",
    "import json\n",
    "from pandas.io.json import json_normalize"
   ]
  },
  {
   "cell_type": "markdown",
   "metadata": {},
   "source": [
    "### Read JSON"
   ]
  },
  {
   "cell_type": "code",
   "execution_count": 38,
   "metadata": {},
   "outputs": [
    {
     "name": "stdout",
     "output_type": "stream",
     "text": [
      "[['preambulo', [['ANO XLIX EDIÇÃO Nº 81                BRASÍLIA - DF, QUINTA-FEIRA, 30 DE ABRIL DE 2020', ['ANO XLIX EDIÇÃO Nº 81                BRASÍLIA - DF, QUINTA-FEIRA, 30 DE ABRIL DE 2020', 'AVISO: Esta Edição será acompanhada de Suplemento.', 'SUMÁRIO\\nSEÇÃO I', 'SEÇÃO II', 'SEÇÃO III', 'PAG.', 'PAG.', 'PAG.', 'Poder Legislativo....................................................... 1 27', 'Poder Executivo......................................................... 2 15', 'Vice Governadoria..................................................... 27', 'Secretaria de Estado de Governo............................... 27', 'Secretaria de Estado de Economia............................ 6 15 27', 'Secretaria de Estado de Saúde................................... 9 16 29', 'Secretaria de Estado de Educação............................. 21', 'Secretaria de Estado de Segurança Pública............... 10 21 33', 'Secretaria de Estado de Transporte e Mobilidade..... 10 23 37', 'Secretaria de Estado de Justiça e Cidadania.............. 11 24 37', 'Secretaria de Estado de Proteção da Ordem \\nUrbanística - DF LEGAL.......................................... 37', 'Secretaria de Estado de Obras e Infraestrutura.......... 38', 'Secretaria de Estado de Agricultura, Abastecimento e \\nDesenvolvimento Rural.......................................... 11 24 38', 'Secretaria de Estado de Ciência, Tecnologia e \\nInovação..................................................................... 46', 'Secretaria de Estado de Cultura e Economia \\nCriativa....................................................................... 13 46', 'Secretaria de Estado de Desenvolvimento \\nEconômico.................................................................. 13 24 50', 'Secretaria de Estado de Desenvolvimento Social...... 14 25', 'Secretaria de Estado de Desenvolvimento Urbano e \\nHabitação.................................................................... 25 52', 'Secretaria de Estado de Meio Ambiente..................... 14 25 53', 'Secretaria de Estado de Turismo................................ 26', 'Secretaria de Estado de Trabalho............................... 26', 'Defensoria Pública..................................................... 14 26', 'Tribunal de Contas..................................................... 14 26', 'Ineditorial................................................................... 53']]]]]\n"
     ]
    }
   ],
   "source": [
    "jsonFile = open('2020_04_30_canvas.json', 'r')\n",
    "secoes = json.load(jsonFile)\n",
    "\n",
    "print(secoes['SEÇÃO 0'])\n",
    "\n",
    "sec0 = secoes['SEÇÃO 0']"
   ]
  },
  {
   "cell_type": "code",
   "execution_count": 34,
   "metadata": {},
   "outputs": [
    {
     "name": "stdout",
     "output_type": "stream",
     "text": [
      "preambulo\n",
      "[['ANO XLIX EDIÇÃO Nº 81                BRASÍLIA - DF, QUINTA-FEIRA, 30 DE ABRIL DE 2020', ['ANO XLIX EDIÇÃO Nº 81                BRASÍLIA - DF, QUINTA-FEIRA, 30 DE ABRIL DE 2020', 'AVISO: Esta Edição será acompanhada de Suplemento.', 'SUMÁRIO\\nSEÇÃO I', 'SEÇÃO II', 'SEÇÃO III', 'PAG.', 'PAG.', 'PAG.', 'Poder Legislativo....................................................... 1 27', 'Poder Executivo......................................................... 2 15', 'Vice Governadoria..................................................... 27', 'Secretaria de Estado de Governo............................... 27', 'Secretaria de Estado de Economia............................ 6 15 27', 'Secretaria de Estado de Saúde................................... 9 16 29', 'Secretaria de Estado de Educação............................. 21', 'Secretaria de Estado de Segurança Pública............... 10 21 33', 'Secretaria de Estado de Transporte e Mobilidade..... 10 23 37', 'Secretaria de Estado de Justiça e Cidadania.............. 11 24 37', 'Secretaria de Estado de Proteção da Ordem \\nUrbanística - DF LEGAL.......................................... 37', 'Secretaria de Estado de Obras e Infraestrutura.......... 38', 'Secretaria de Estado de Agricultura, Abastecimento e \\nDesenvolvimento Rural.......................................... 11 24 38', 'Secretaria de Estado de Ciência, Tecnologia e \\nInovação..................................................................... 46', 'Secretaria de Estado de Cultura e Economia \\nCriativa....................................................................... 13 46', 'Secretaria de Estado de Desenvolvimento \\nEconômico.................................................................. 13 24 50', 'Secretaria de Estado de Desenvolvimento Social...... 14 25', 'Secretaria de Estado de Desenvolvimento Urbano e \\nHabitação.................................................................... 25 52', 'Secretaria de Estado de Meio Ambiente..................... 14 25 53', 'Secretaria de Estado de Turismo................................ 26', 'Secretaria de Estado de Trabalho............................... 26', 'Defensoria Pública..................................................... 14 26', 'Tribunal de Contas..................................................... 14 26', 'Ineditorial................................................................... 53']]]\n"
     ]
    }
   ],
   "source": [
    "print(sec0[0][0])\n",
    "\n",
    "print(sec0[0][1])"
   ]
  },
  {
   "cell_type": "code",
   "execution_count": 40,
   "metadata": {},
   "outputs": [
    {
     "name": "stdout",
     "output_type": "stream",
     "text": [
      "['ANO XLIX EDIÇÃO Nº 81                BRASÍLIA - DF, QUINTA-FEIRA, 30 DE ABRIL DE 2020', ['ANO XLIX EDIÇÃO Nº 81                BRASÍLIA - DF, QUINTA-FEIRA, 30 DE ABRIL DE 2020', 'AVISO: Esta Edição será acompanhada de Suplemento.', 'SUMÁRIO\\nSEÇÃO I', 'SEÇÃO II', 'SEÇÃO III', 'PAG.', 'PAG.', 'PAG.', 'Poder Legislativo....................................................... 1 27', 'Poder Executivo......................................................... 2 15', 'Vice Governadoria..................................................... 27', 'Secretaria de Estado de Governo............................... 27', 'Secretaria de Estado de Economia............................ 6 15 27', 'Secretaria de Estado de Saúde................................... 9 16 29', 'Secretaria de Estado de Educação............................. 21', 'Secretaria de Estado de Segurança Pública............... 10 21 33', 'Secretaria de Estado de Transporte e Mobilidade..... 10 23 37', 'Secretaria de Estado de Justiça e Cidadania.............. 11 24 37', 'Secretaria de Estado de Proteção da Ordem \\nUrbanística - DF LEGAL.......................................... 37', 'Secretaria de Estado de Obras e Infraestrutura.......... 38', 'Secretaria de Estado de Agricultura, Abastecimento e \\nDesenvolvimento Rural.......................................... 11 24 38', 'Secretaria de Estado de Ciência, Tecnologia e \\nInovação..................................................................... 46', 'Secretaria de Estado de Cultura e Economia \\nCriativa....................................................................... 13 46', 'Secretaria de Estado de Desenvolvimento \\nEconômico.................................................................. 13 24 50', 'Secretaria de Estado de Desenvolvimento Social...... 14 25', 'Secretaria de Estado de Desenvolvimento Urbano e \\nHabitação.................................................................... 25 52', 'Secretaria de Estado de Meio Ambiente..................... 14 25 53', 'Secretaria de Estado de Turismo................................ 26', 'Secretaria de Estado de Trabalho............................... 26', 'Defensoria Pública..................................................... 14 26', 'Tribunal de Contas..................................................... 14 26', 'Ineditorial................................................................... 53']]\n"
     ]
    }
   ],
   "source": [
    "print(sec0[0][1][0])"
   ]
  },
  {
   "cell_type": "code",
   "execution_count": 41,
   "metadata": {},
   "outputs": [
    {
     "name": "stdout",
     "output_type": "stream",
     "text": [
      "ANO XLIX EDIÇÃO Nº 81                BRASÍLIA - DF, QUINTA-FEIRA, 30 DE ABRIL DE 2020\n"
     ]
    }
   ],
   "source": [
    "print(sec0[0][1][0][0])"
   ]
  },
  {
   "cell_type": "code",
   "execution_count": 49,
   "metadata": {},
   "outputs": [
    {
     "name": "stdout",
     "output_type": "stream",
     "text": [
      "['ANO XLIX EDIÇÃO Nº 81                BRASÍLIA - DF, QUINTA-FEIRA, 30 DE ABRIL DE 2020', 'AVISO: Esta Edição será acompanhada de Suplemento.', 'SUMÁRIO\\nSEÇÃO I', 'SEÇÃO II', 'SEÇÃO III', 'PAG.', 'PAG.', 'PAG.', 'Poder Legislativo....................................................... 1 27', 'Poder Executivo......................................................... 2 15', 'Vice Governadoria..................................................... 27', 'Secretaria de Estado de Governo............................... 27', 'Secretaria de Estado de Economia............................ 6 15 27', 'Secretaria de Estado de Saúde................................... 9 16 29', 'Secretaria de Estado de Educação............................. 21', 'Secretaria de Estado de Segurança Pública............... 10 21 33', 'Secretaria de Estado de Transporte e Mobilidade..... 10 23 37', 'Secretaria de Estado de Justiça e Cidadania.............. 11 24 37', 'Secretaria de Estado de Proteção da Ordem \\nUrbanística - DF LEGAL.......................................... 37', 'Secretaria de Estado de Obras e Infraestrutura.......... 38', 'Secretaria de Estado de Agricultura, Abastecimento e \\nDesenvolvimento Rural.......................................... 11 24 38', 'Secretaria de Estado de Ciência, Tecnologia e \\nInovação..................................................................... 46', 'Secretaria de Estado de Cultura e Economia \\nCriativa....................................................................... 13 46', 'Secretaria de Estado de Desenvolvimento \\nEconômico.................................................................. 13 24 50', 'Secretaria de Estado de Desenvolvimento Social...... 14 25', 'Secretaria de Estado de Desenvolvimento Urbano e \\nHabitação.................................................................... 25 52', 'Secretaria de Estado de Meio Ambiente..................... 14 25 53', 'Secretaria de Estado de Turismo................................ 26', 'Secretaria de Estado de Trabalho............................... 26', 'Defensoria Pública..................................................... 14 26', 'Tribunal de Contas..................................................... 14 26', 'Ineditorial................................................................... 53']\n"
     ]
    }
   ],
   "source": [
    "print(sec0[0][1][0][1])"
   ]
  },
  {
   "cell_type": "code",
   "execution_count": 51,
   "metadata": {},
   "outputs": [],
   "source": [
    "sec1 = secoes['SEÇÃO I']"
   ]
  },
  {
   "cell_type": "code",
   "execution_count": 59,
   "metadata": {},
   "outputs": [
    {
     "name": "stdout",
     "output_type": "stream",
     "text": [
      "[['CÂMARA LEGISLATIVA', ['CÂMARA LEGISLATIVA', 'FUNDO DE ASSISTÊNCIA À SAÚDE DOS DEPUTADOS \\nDISTRITAIS E SERVIDORES DA CÂMARA LEGISLATIVA', ' ', 'DESPACHO DA GERENTE-COORDENADORA', 'Em 24 de abril de 2020', 'Com base no Decreto 32.598/2010, artigos 86 a 88 e consoante às instruções contidas nos \\nautos, reconhecemos a dívida por exercícios anteriores e, em decorrência, autorizamos a \\nemissão da Nota de Empenho, da Nota de Liquidação e da Ordem Bancária nos valores \\nabaixo especificados à conta do elemento de despesa 339092.', 'PROCESSO: 00001-00014311/2019-46 – Interessado: COOPANEST- COOPERATIVA \\nDOS MÉDICOS ANESTESIOLOGISTAS DO DF, valor R$ 1.263,08 (um mil duzentos e \\nsessenta e três reais e oito centavos), referente à nota fiscal nº 17986.', 'PROCESSO: 00001-00014553/2019-30 – Interessado: INSTITUTO DO CORAÇÃO DE \\nTAGUATINGA LTDA, valor R$ 445,00 (quatrocentos e quarenta e cinco reais) , \\nreferente à nota fiscal nº 3572.', 'PROCESSO:00001-00014551/2019-41 – Interessado: INSTITUTO DO CORAÇÃO DE', 'TAGUATINGA LTDA, valor R$ 240,00 (duzentos e quarenta reais) , referente à nota \\nfiscal nº 3571.\\nPROCESSO:00001-00014684/2019-17  –  Interessado:  INBOL-  INSTITUTO ', 'BRASILIENSE DE OLHOS, valor R$ 3.873,14 (três mil oitocentos e setenta e três reais e \\nquatorze centavos) , referente à nota fiscal nº 20851.\\nPROCESSO:00001-00014682/2019-28  –  Interessado:  INBOL-  INSTITUTO ', 'BRASILIENSE DE OLHOS, valor R$ 286,05 (duzentos e oitenta e seis reais e cinco \\ncentavos) , referente à nota fiscal nº 20850.\\nPROCESSO:00001-00000242/2020-27  –  Interessado:  INBOL-  INSTITUTO ', 'BRASILIENSE DE OLHOS, valor R$ 647,22 (seiscentos e quarenta e sete reais e vinte e \\ndois centavos) , referente à nota fiscal nº 20969.\\nPROCESSO:00001-00000241/2020-82  –  Interessado:  INBOL-  INSTITUTO ', 'BRASILIENSE DE OLHOS, valor R$ 286,05 (duzentos e oitenta e seis reais e cinco \\ncentavos) , referente à nota fiscal nº 20968.\\nPROCESSO:00001-00008597/2020-64  –  Interessado:  INBOL-  INSTITUTO ', 'BRASILIENSE DE OLHOS, valor R$ 675,60 (seiscentos e setenta e cinco reais e \\nsessenta centavos) , referente à nota fiscal nº 21232.\\nPROCESSO:00001-00010939/2019-72  –  Interessado:  INBOL-  INSTITUTO ', 'BRASILIENSE DE OLHOS, valor R$ 1.757,08 (um mil setecentos e cinquenta e sete \\nreais e oito centavos) , referente à nota fiscal nº 20744.\\nPROCESSO:00001-00014640/2019-97  –  Interessado:  INBOL-  INSTITUTO ', 'BRASILIENSE DE OLHOS, valor R$ 1.220,89 (um mil duzentos e vinte reais e oitenta e \\nnove centavos) , referente à nota fiscal nº 20849.\\nPROCESSO:00001-00010914/2019-79  –  Interessado:  HOB-  HOSPITAL ', 'OFTALMOLÓGICO DE BRASILIA LTDA, valor R$ 5.287,16 (cinco mil duzentos e \\noitenta e sete reais e dezesseis centavos) , referente à nota fiscal nº 7719.\\nPROCESSO:00001-00010918/2019-57  –  Interessado:  HOB-  HOSPITAL ', 'OFTALMOLÓGICO DE BRASILIA LTDA, valor R$ 9.204,39 (nove mil duzentos e \\nquatro reais e trinta e nove centavos) , referente à nota fiscal nº 7716.\\nPROCESSO:00001-00010886/2019-90  –  Interessado:  HOB-  HOSPITAL ', 'OFTALMOLÓGICO DE BRASILIA LTDA, valor R$ 9.391,02 (nove mil trezentos e \\nnoventa e um reais e dois centavos) , referente à nota fiscal nº 7718.\\nPROCESSO:00001-00010886/2019-90  –  Interessado:  HOB-  HOSPITAL ', 'OFTALMOLÓGICO DE BRASILIA LTDA, valor R$ 7.486,65 (sete mil quatrocentos e \\noitenta e seis reais e sessenta e cinco centavos) , referente à nota fiscal nº 7717.\\nPROCESSO:00001-00010886/2019-90  –  Interessado:  HOB-  HOSPITAL ', 'OFTALMOLÓGICO DE BRASILIA LTDA, valor R$ 7.978,39 (sete mil novecentos e \\nsetenta e oito reais e trinta e nove centavos) , referente à nota fiscal nº 7720.\\nPROCESSO:00001-00010886/2019-90  –  Interessado:  HOB-  HOSPITAL ', 'OFTALMOLÓGICO DE BRASILIA LTDA, valor R$ 4.749,16 (sete mil novecentos e \\nsetenta e oito reais e trinta e nove centavos) , referente à nota fiscal nº 7715.\\nPROCESSO:00001-00015625/2019-66 – Interessado: CLÍNICA DE MAMOGRAFIA DE \\nBRASILIA, valor R$ 1.776,68 (um mil setecentos e setenta e seis reais e sessenta e oito \\ncentavos) , referente à nota fiscal nº 13.444', 'VANESSA RIBEIRO DE MATTOS BARBOSA MALAFAIA', 'Gerente-Coordenadora do FASCAL', 'DESPACHO DA GERENTE-COORDENADORA', 'Em 28 de abril de 2020', 'Com base no Decreto 32.598/2010, artigos 86 a 88 e consoante às instruções contidas nos \\nautos, reconhecemos a dívida por exercícios anteriores e, em decorrência, autorizamos a \\nemissão da Nota de Empenho, da Nota de Liquidação e da Ordem Bancária nos valores \\nabaixo especificados à conta do elemento de despesa 339092.\\nPROCESSO: 00001-00001417/2020-13 – Interessado: INDOOR ASSISTÊNCIA \\nMEDICA DE EXCELÊNCIA. valor R$ 18.674,72 (dezoito mil seiscentos e setenta e \\nquatro reais e setenta e dois centavos) , referente à nota fiscal nº 256.\\nPROCESSO: 001-000172/2018 – Volume 122 – Interessado: HOSPITAL SANTA \\nHELENA S/A., valor R$ 103.657,75 (cento e três mil seiscentos e cinquenta e sete reais e \\nsetenta e cinco centavos), referente à nota fiscal nº 58021.\\nPROCESSO: 001-000172/2018 – Volume 118 – Interessado: HOSPITAL SANTA \\nHELENA S/A., valor R$ 75.014,13 (setenta e cinco mil quatorze reais e treze centavos) , \\nreferente à nota fiscal nº 58022\\nPROCESSO: 001-000172/2018 – Volume 125 – Interessado: HOSPITAL SANTA \\nHELENA S/A., valor R$ 102.568,33 (cento e dois mil quinhentos e sessenta e oito reais e \\ntrinta e três centavos) ,referente à nota fiscal nº 58906', 'PROCESSO: 001-000172/2018 – Volume 105 – Interessado: HOSPITAL SANTA \\nHELENA S/A., valor R$ 61.533,81 (sessenta e um mil quinhentos e trinta e três reais e \\noitenta e um centavos), referente à nota fiscal nº 57255...\\nPROCESSO: 001-000172/2018 – Volume 68 – Interessado: HOSPITAL SANTA \\nHELENA S/A., valor R$ 4.312,91 (quatro mil trezentos e doze reais e noventa e um \\ncentavos) , referente à nota fiscal nº 47169.\\nPROCESSO: 001-0000107/2018-1284 – Interessado: ASSOCIAÇÃO DOS MÉDICOS \\nDE HOSPITAIS PRIVADOS DO DF AMHP/DF., valor R$ 8.512,80 (oito mil quinhentos \\ne doze reais e oitenta centavos) , referente à nota fiscal nº 141210.', 'VANESSA RIBEIRO DE MATTOS BARBOSA MALAFAIA', 'Gerente-Coordenadora do FASCAL']]]\n"
     ]
    }
   ],
   "source": [
    "print(sec1[0][1][0])"
   ]
  },
  {
   "cell_type": "code",
   "execution_count": null,
   "metadata": {},
   "outputs": [],
   "source": []
  }
 ],
 "metadata": {
  "kernelspec": {
   "display_name": "Python 3",
   "language": "python",
   "name": "python3"
  },
  "language_info": {
   "codemirror_mode": {
    "name": "ipython",
    "version": 3
   },
   "file_extension": ".py",
   "mimetype": "text/x-python",
   "name": "python",
   "nbconvert_exporter": "python",
   "pygments_lexer": "ipython3",
   "version": "3.6.10"
  }
 },
 "nbformat": 4,
 "nbformat_minor": 2
}
